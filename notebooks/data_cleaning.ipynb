{
 "cells": [
  {
   "cell_type": "code",
   "execution_count": 1,
   "metadata": {},
   "outputs": [],
   "source": [
    "import pandas as pd\n",
    "import numpy as np"
   ]
  },
  {
   "cell_type": "code",
   "execution_count": 2,
   "metadata": {},
   "outputs": [
    {
     "name": "stdout",
     "output_type": "stream",
     "text": [
      "                                          Megnevezés  2014  2015  2016  2017  \\\n",
      "0  Informatikai szakembereket  alkalmazó vállalko...    ..  27,5  27,4  28,7   \n",
      "1  Informatikai szakemberei részére képzést bizto...   7,7   8,1   8,5   8,1   \n",
      "2  Nem informatikai szakemberei részére informati...  13,3  13,3  14,1  14,3   \n",
      "3  Informatikai szakember állást meghírdetõ válla...  10,4  10,7  11,5  11,8   \n",
      "4  Vállalkozások, akik nehezen tudták a meghírdet...   4,8   5,7   6,3   7,0   \n",
      "\n",
      "   2018  2019  2020  2021  2022  2023  \n",
      "0  27,9  27,4  30,2  30,3  30,6  32,0  \n",
      "1   8,7   8,0   8,3   9,0   9,3    ..  \n",
      "2  13,6  13,9  13,6  14,8  16,0    ..  \n",
      "3  10,8   8,2   6,9   8,3   7,3    ..  \n",
      "4   6,2   4,6   3,9   5,0   5,0    ..  \n"
     ]
    }
   ],
   "source": [
    "path=\"../data/raw/\"\n",
    "file=\"raw_data.csv\"\n",
    "encoding='latin-1'\n",
    "skiprows=1\n",
    "#A file elso sora folosleges, encoding hibat ad ki a program utf-8 encodolasra, es a csv ';'-el van elvalasztva.\n",
    "try:\n",
    "    \n",
    "    df=pd.read_csv(path+file, encoding=encoding, delimiter=';', skiprows=skiprows )\n",
    "    \n",
    "except UnicodeDecodeError:\n",
    "    print(\"Unicode error\")\n",
    "except FileNotFoundError:\n",
    "    print(\"A file nem talalhato a \"+path+\" mappaban\")\n",
    "else:\n",
    "    print(df)\n",
    "    "
   ]
  },
  {
   "cell_type": "code",
   "execution_count": 3,
   "metadata": {},
   "outputs": [
    {
     "name": "stdout",
     "output_type": "stream",
     "text": [
      "<class 'pandas.core.frame.DataFrame'>\n",
      "RangeIndex: 5 entries, 0 to 4\n",
      "Data columns (total 11 columns):\n",
      " #   Column      Non-Null Count  Dtype \n",
      "---  ------      --------------  ----- \n",
      " 0   Megnevezés  5 non-null      object\n",
      " 1   2014        5 non-null      object\n",
      " 2   2015        5 non-null      object\n",
      " 3   2016        5 non-null      object\n",
      " 4   2017        5 non-null      object\n",
      " 5   2018        5 non-null      object\n",
      " 6   2019        5 non-null      object\n",
      " 7   2020        5 non-null      object\n",
      " 8   2021        5 non-null      object\n",
      " 9   2022        5 non-null      object\n",
      " 10  2023        5 non-null      object\n",
      "dtypes: object(11)\n",
      "memory usage: 572.0+ bytes\n"
     ]
    }
   ],
   "source": [
    "df.info()"
   ]
  },
  {
   "cell_type": "markdown",
   "metadata": {},
   "source": [
    "Elso oszlopot, es sort kihagyva minden ,-t .-ra cserelek"
   ]
  },
  {
   "cell_type": "code",
   "execution_count": null,
   "metadata": {},
   "outputs": [],
   "source": [
    "\n",
    "df.iloc[:, 1:] = df.iloc[:, 1:].replace(\",\",\".\", regex=True).apply(pd.to_numeric, errors='coerce')"
   ]
  },
  {
   "cell_type": "markdown",
   "metadata": {},
   "source": [
    "Amit nem tudok float-ta alakitani azt NaN-re valtom"
   ]
  },
  {
   "cell_type": "code",
   "execution_count": null,
   "metadata": {},
   "outputs": [],
   "source": [
    "\n",
    "df.iloc[:, 1:] = df.iloc[:, 1:].apply(pd.to_numeric, errors='coerce')"
   ]
  },
  {
   "cell_type": "code",
   "execution_count": 6,
   "metadata": {},
   "outputs": [
    {
     "data": {
      "text/html": [
       "<div>\n",
       "<style scoped>\n",
       "    .dataframe tbody tr th:only-of-type {\n",
       "        vertical-align: middle;\n",
       "    }\n",
       "\n",
       "    .dataframe tbody tr th {\n",
       "        vertical-align: top;\n",
       "    }\n",
       "\n",
       "    .dataframe thead th {\n",
       "        text-align: right;\n",
       "    }\n",
       "</style>\n",
       "<table border=\"1\" class=\"dataframe\">\n",
       "  <thead>\n",
       "    <tr style=\"text-align: right;\">\n",
       "      <th></th>\n",
       "      <th>Megnevezés</th>\n",
       "      <th>2014</th>\n",
       "      <th>2015</th>\n",
       "      <th>2016</th>\n",
       "      <th>2017</th>\n",
       "      <th>2018</th>\n",
       "      <th>2019</th>\n",
       "      <th>2020</th>\n",
       "      <th>2021</th>\n",
       "      <th>2022</th>\n",
       "      <th>2023</th>\n",
       "    </tr>\n",
       "  </thead>\n",
       "  <tbody>\n",
       "    <tr>\n",
       "      <th>0</th>\n",
       "      <td>Informatikai szakembereket  alkalmazó vállalko...</td>\n",
       "      <td>NaN</td>\n",
       "      <td>27.5</td>\n",
       "      <td>27.4</td>\n",
       "      <td>28.7</td>\n",
       "      <td>27.9</td>\n",
       "      <td>27.4</td>\n",
       "      <td>30.2</td>\n",
       "      <td>30.3</td>\n",
       "      <td>30.6</td>\n",
       "      <td>32.0</td>\n",
       "    </tr>\n",
       "    <tr>\n",
       "      <th>1</th>\n",
       "      <td>Informatikai szakemberei részére képzést bizto...</td>\n",
       "      <td>7.7</td>\n",
       "      <td>8.1</td>\n",
       "      <td>8.5</td>\n",
       "      <td>8.1</td>\n",
       "      <td>8.7</td>\n",
       "      <td>8.0</td>\n",
       "      <td>8.3</td>\n",
       "      <td>9.0</td>\n",
       "      <td>9.3</td>\n",
       "      <td>NaN</td>\n",
       "    </tr>\n",
       "    <tr>\n",
       "      <th>2</th>\n",
       "      <td>Nem informatikai szakemberei részére informati...</td>\n",
       "      <td>13.3</td>\n",
       "      <td>13.3</td>\n",
       "      <td>14.1</td>\n",
       "      <td>14.3</td>\n",
       "      <td>13.6</td>\n",
       "      <td>13.9</td>\n",
       "      <td>13.6</td>\n",
       "      <td>14.8</td>\n",
       "      <td>16.0</td>\n",
       "      <td>NaN</td>\n",
       "    </tr>\n",
       "    <tr>\n",
       "      <th>3</th>\n",
       "      <td>Informatikai szakember állást meghírdetõ válla...</td>\n",
       "      <td>10.4</td>\n",
       "      <td>10.7</td>\n",
       "      <td>11.5</td>\n",
       "      <td>11.8</td>\n",
       "      <td>10.8</td>\n",
       "      <td>8.2</td>\n",
       "      <td>6.9</td>\n",
       "      <td>8.3</td>\n",
       "      <td>7.3</td>\n",
       "      <td>NaN</td>\n",
       "    </tr>\n",
       "    <tr>\n",
       "      <th>4</th>\n",
       "      <td>Vállalkozások, akik nehezen tudták a meghírdet...</td>\n",
       "      <td>4.8</td>\n",
       "      <td>5.7</td>\n",
       "      <td>6.3</td>\n",
       "      <td>7.0</td>\n",
       "      <td>6.2</td>\n",
       "      <td>4.6</td>\n",
       "      <td>3.9</td>\n",
       "      <td>5.0</td>\n",
       "      <td>5.0</td>\n",
       "      <td>NaN</td>\n",
       "    </tr>\n",
       "  </tbody>\n",
       "</table>\n",
       "</div>"
      ],
      "text/plain": [
       "                                          Megnevezés  2014  2015  2016  2017  \\\n",
       "0  Informatikai szakembereket  alkalmazó vállalko...   NaN  27.5  27.4  28.7   \n",
       "1  Informatikai szakemberei részére képzést bizto...   7.7   8.1   8.5   8.1   \n",
       "2  Nem informatikai szakemberei részére informati...  13.3  13.3  14.1  14.3   \n",
       "3  Informatikai szakember állást meghírdetõ válla...  10.4  10.7  11.5  11.8   \n",
       "4  Vállalkozások, akik nehezen tudták a meghírdet...   4.8   5.7   6.3   7.0   \n",
       "\n",
       "   2018  2019  2020  2021  2022  2023  \n",
       "0  27.9  27.4  30.2  30.3  30.6  32.0  \n",
       "1   8.7   8.0   8.3   9.0   9.3   NaN  \n",
       "2  13.6  13.9  13.6  14.8  16.0   NaN  \n",
       "3  10.8   8.2   6.9   8.3   7.3   NaN  \n",
       "4   6.2   4.6   3.9   5.0   5.0   NaN  "
      ]
     },
     "execution_count": 6,
     "metadata": {},
     "output_type": "execute_result"
    }
   ],
   "source": [
    "df"
   ]
  },
  {
   "cell_type": "markdown",
   "metadata": {},
   "source": [
    "Felcserelem a sorokat az oszlopokkal az elemzeshez."
   ]
  },
  {
   "cell_type": "code",
   "execution_count": 7,
   "metadata": {},
   "outputs": [],
   "source": [
    "df=df.rename(columns={'Megnevezés': 'Év'})"
   ]
  },
  {
   "cell_type": "code",
   "execution_count": 8,
   "metadata": {},
   "outputs": [],
   "source": [
    "df=df.transpose()\n"
   ]
  },
  {
   "cell_type": "code",
   "execution_count": 9,
   "metadata": {},
   "outputs": [],
   "source": [
    "df.reset_index(inplace=True)"
   ]
  },
  {
   "cell_type": "markdown",
   "metadata": {},
   "source": [
    "Kimentem a megtisztitott adatot."
   ]
  },
  {
   "cell_type": "code",
   "execution_count": 10,
   "metadata": {},
   "outputs": [],
   "source": [
    "out_path = \"../data/processed/\"\n",
    "file_name = \"clean_data.csv\"\n",
    "file_out_path = out_path+file_name\n",
    "try:\n",
    "    df.to_csv(file_out_path, index=False, header=False, encoding=encoding)\n",
    "except OSError:\n",
    "    print(\"Nincs ilyen mappa\")"
   ]
  }
 ],
 "metadata": {
  "kernelspec": {
   "display_name": "Python 3",
   "language": "python",
   "name": "python3"
  },
  "language_info": {
   "codemirror_mode": {
    "name": "ipython",
    "version": 3
   },
   "file_extension": ".py",
   "mimetype": "text/x-python",
   "name": "python",
   "nbconvert_exporter": "python",
   "pygments_lexer": "ipython3",
   "version": "3.11.10"
  }
 },
 "nbformat": 4,
 "nbformat_minor": 2
}
