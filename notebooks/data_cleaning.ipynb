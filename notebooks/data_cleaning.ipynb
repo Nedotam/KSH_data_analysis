{
 "cells": [
  {
   "cell_type": "code",
   "execution_count": null,
   "metadata": {},
   "outputs": [],
   "source": [
    "import pandas as pd\n",
    "import numpy as np"
   ]
  },
  {
   "cell_type": "code",
   "execution_count": null,
   "metadata": {},
   "outputs": [],
   "source": [
    "path=\"../data/raw/\"\n",
    "file=\"raw_data.csv\"\n",
    "encoding='latin-1'\n",
    "skiprows=1\n",
    "#A file elso sora folosleges, encoding hibat ad ki a program utf-8 encodolasra, es a csv ';'-el van elvalasztva.\n",
    "try:\n",
    "    \n",
    "    df=pd.read_csv(path+file, encoding=encoding, delimiter=';', skiprows=skiprows )\n",
    "    \n",
    "except UnicodeDecodeError:\n",
    "    print(\"Unicode error\")\n",
    "except FileNotFoundError:\n",
    "    print(\"A file nem talalhato a \"+path+\" mappaban\")\n",
    "else:\n",
    "    print(df)\n",
    "    "
   ]
  },
  {
   "cell_type": "code",
   "execution_count": null,
   "metadata": {},
   "outputs": [],
   "source": [
    "df.info()"
   ]
  },
  {
   "cell_type": "code",
   "execution_count": null,
   "metadata": {},
   "outputs": [],
   "source": [
    "#Elso oszlopot, es sort kihagyva minden ,-t .-ra cserelek\n",
    "df.iloc[:, 1:] = df.iloc[:, 1:].replace(\",\",\".\", regex=True).apply(pd.to_numeric, errors='coerce')"
   ]
  },
  {
   "cell_type": "code",
   "execution_count": null,
   "metadata": {},
   "outputs": [],
   "source": [
    "#Amit nem tudok float-ta alakitani azt NaN-re valtom\n",
    "df.iloc[:, 1:] = df.iloc[:, 1:].apply(pd.to_numeric, errors='coerce')"
   ]
  },
  {
   "cell_type": "code",
   "execution_count": null,
   "metadata": {},
   "outputs": [],
   "source": [
    "df"
   ]
  },
  {
   "cell_type": "code",
   "execution_count": null,
   "metadata": {},
   "outputs": [],
   "source": [
    "df=df.rename(columns={'Megnevezés': 'Év'})"
   ]
  },
  {
   "cell_type": "code",
   "execution_count": null,
   "metadata": {},
   "outputs": [],
   "source": [
    "df=df.transpose()\n"
   ]
  },
  {
   "cell_type": "code",
   "execution_count": null,
   "metadata": {},
   "outputs": [],
   "source": [
    "df.reset_index(inplace=True)"
   ]
  },
  {
   "cell_type": "code",
   "execution_count": null,
   "metadata": {},
   "outputs": [],
   "source": []
  },
  {
   "cell_type": "code",
   "execution_count": null,
   "metadata": {},
   "outputs": [],
   "source": [
    "out_path = \"../data/processed/\"\n",
    "file_name = \"clean_data.csv\"\n",
    "file_out_path = out_path+file_name\n",
    "try:\n",
    "    df.to_csv(file_out_path, index=False, header=False, encoding=encoding)\n",
    "except OSError:\n",
    "    print(\"Nincs ilyen mappa\")"
   ]
  }
 ],
 "metadata": {
  "kernelspec": {
   "display_name": "Python 3",
   "language": "python",
   "name": "python3"
  },
  "language_info": {
   "codemirror_mode": {
    "name": "ipython",
    "version": 3
   },
   "file_extension": ".py",
   "mimetype": "text/x-python",
   "name": "python",
   "nbconvert_exporter": "python",
   "pygments_lexer": "ipython3",
   "version": "3.11.10"
  }
 },
 "nbformat": 4,
 "nbformat_minor": 2
}
